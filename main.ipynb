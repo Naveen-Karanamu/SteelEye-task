{
  "cells": [
    {
      "cell_type": "markdown",
      "metadata": {},
      "source": [
        "# SteelEye task"
      ]
    },
    {
      "cell_type": "markdown",
      "metadata": {},
      "source": [
        "* Importing Libraries\n"
      ]
    },
    {
      "cell_type": "code",
      "execution_count": 1,
      "metadata": {
        "id": "-0kWmVuqfxtJ"
      },
      "outputs": [],
      "source": [
        "import pandas as pd"
      ]
    },
    {
      "cell_type": "markdown",
      "metadata": {},
      "source": [
        "* Creating a columns list to be given"
      ]
    },
    {
      "cell_type": "code",
      "execution_count": 2,
      "metadata": {
        "id": "AZEz7csUURkA"
      },
      "outputs": [],
      "source": [
        "columns=['FinInstrmGnlAttrbts.Id','FinInstrmGnlAttrbts.FullNm','FinInstrmGnlAttrbts.ClssfctnTp','FinInstrmGnlAttrbts.CmmdtyDerivInd','FinInstrmGnlAttrbts.NtnlCcy','Issr']"
      ]
    },
    {
      "cell_type": "markdown",
      "metadata": {},
      "source": [
        "* Importing the dataset"
      ]
    },
    {
      "cell_type": "code",
      "execution_count": 3,
      "metadata": {
        "id": "ZbvdtdG5h6sg"
      },
      "outputs": [],
      "source": [
        "df=pd.read_csv(\"DLTINS_20210117_01of01.xml\",names=columns,header=None)"
      ]
    },
    {
      "cell_type": "code",
      "execution_count": 4,
      "metadata": {
        "colab": {
          "base_uri": "https://localhost:8080/"
        },
        "id": "ggies0rpm06p",
        "outputId": "c30b3358-3b60-4d8d-b215-0aa3e3fe310f"
      },
      "outputs": [
        {
          "data": {
            "text/plain": [
              "Index(['FinInstrmGnlAttrbts.Id', 'FinInstrmGnlAttrbts.FullNm',\n",
              "       'FinInstrmGnlAttrbts.ClssfctnTp', 'FinInstrmGnlAttrbts.CmmdtyDerivInd',\n",
              "       'FinInstrmGnlAttrbts.NtnlCcy', 'Issr'],\n",
              "      dtype='object')"
            ]
          },
          "execution_count": 4,
          "metadata": {},
          "output_type": "execute_result"
        }
      ],
      "source": [
        "df.columns"
      ]
    },
    {
      "cell_type": "code",
      "execution_count": 6,
      "metadata": {
        "colab": {
          "base_uri": "https://localhost:8080/",
          "height": 245
        },
        "id": "VGYD8ImejZHP",
        "outputId": "c93fa27b-5df5-4bcd-dff7-81df31f7ccb1"
      },
      "outputs": [
        {
          "data": {
            "text/html": [
              "\n",
              "  <div id=\"df-75f58b94-8017-4a11-9740-1715b72d8bdb\">\n",
              "    <div class=\"colab-df-container\">\n",
              "      <div>\n",
              "<style scoped>\n",
              "    .dataframe tbody tr th:only-of-type {\n",
              "        vertical-align: middle;\n",
              "    }\n",
              "\n",
              "    .dataframe tbody tr th {\n",
              "        vertical-align: top;\n",
              "    }\n",
              "\n",
              "    .dataframe thead th {\n",
              "        text-align: right;\n",
              "    }\n",
              "</style>\n",
              "<table border=\"1\" class=\"dataframe\">\n",
              "  <thead>\n",
              "    <tr style=\"text-align: right;\">\n",
              "      <th></th>\n",
              "      <th>FinInstrmGnlAttrbts.Id</th>\n",
              "      <th>FinInstrmGnlAttrbts.FullNm</th>\n",
              "      <th>FinInstrmGnlAttrbts.ClssfctnTp</th>\n",
              "      <th>FinInstrmGnlAttrbts.CmmdtyDerivInd</th>\n",
              "      <th>FinInstrmGnlAttrbts.NtnlCcy</th>\n",
              "      <th>Issr</th>\n",
              "    </tr>\n",
              "  </thead>\n",
              "  <tbody>\n",
              "    <tr>\n",
              "      <th>0</th>\n",
              "      <td>&lt;?xml version=\"1.0\" encoding=\"UTF-8\"?&gt;</td>\n",
              "      <td>NaN</td>\n",
              "      <td>NaN</td>\n",
              "      <td>NaN</td>\n",
              "      <td>NaN</td>\n",
              "      <td>NaN</td>\n",
              "    </tr>\n",
              "    <tr>\n",
              "      <th>1</th>\n",
              "      <td>&lt;BizData xsi:schemaLocation=\"urn:iso:std:iso:2...</td>\n",
              "      <td>Land           Landessch.v.16(21) Ausg.858&lt;/F...</td>\n",
              "      <td>Land Landessch.v.16(21) Ausg.858&lt;/FullNm&gt;&lt;Shr...</td>\n",
              "      <td>Land Landessch.v.16(21) Ausg.858&lt;/FullNm&gt;&lt;Shr...</td>\n",
              "      <td>FRN)&lt;/FullNm&gt;&lt;ShrtNm&gt;NATIXIS PFDBRBK/VAR MTH 2...</td>\n",
              "      <td>FRN) NATIXIS PFAND&lt;/FullNm&gt;&lt;ShrtNm&gt;NATIXIS PFD...</td>\n",
              "    </tr>\n",
              "  </tbody>\n",
              "</table>\n",
              "</div>\n",
              "      <button class=\"colab-df-convert\" onclick=\"convertToInteractive('df-75f58b94-8017-4a11-9740-1715b72d8bdb')\"\n",
              "              title=\"Convert this dataframe to an interactive table.\"\n",
              "              style=\"display:none;\">\n",
              "        \n",
              "  <svg xmlns=\"http://www.w3.org/2000/svg\" height=\"24px\"viewBox=\"0 0 24 24\"\n",
              "       width=\"24px\">\n",
              "    <path d=\"M0 0h24v24H0V0z\" fill=\"none\"/>\n",
              "    <path d=\"M18.56 5.44l.94 2.06.94-2.06 2.06-.94-2.06-.94-.94-2.06-.94 2.06-2.06.94zm-11 1L8.5 8.5l.94-2.06 2.06-.94-2.06-.94L8.5 2.5l-.94 2.06-2.06.94zm10 10l.94 2.06.94-2.06 2.06-.94-2.06-.94-.94-2.06-.94 2.06-2.06.94z\"/><path d=\"M17.41 7.96l-1.37-1.37c-.4-.4-.92-.59-1.43-.59-.52 0-1.04.2-1.43.59L10.3 9.45l-7.72 7.72c-.78.78-.78 2.05 0 2.83L4 21.41c.39.39.9.59 1.41.59.51 0 1.02-.2 1.41-.59l7.78-7.78 2.81-2.81c.8-.78.8-2.07 0-2.86zM5.41 20L4 18.59l7.72-7.72 1.47 1.35L5.41 20z\"/>\n",
              "  </svg>\n",
              "      </button>\n",
              "      \n",
              "  <style>\n",
              "    .colab-df-container {\n",
              "      display:flex;\n",
              "      flex-wrap:wrap;\n",
              "      gap: 12px;\n",
              "    }\n",
              "\n",
              "    .colab-df-convert {\n",
              "      background-color: #E8F0FE;\n",
              "      border: none;\n",
              "      border-radius: 50%;\n",
              "      cursor: pointer;\n",
              "      display: none;\n",
              "      fill: #1967D2;\n",
              "      height: 32px;\n",
              "      padding: 0 0 0 0;\n",
              "      width: 32px;\n",
              "    }\n",
              "\n",
              "    .colab-df-convert:hover {\n",
              "      background-color: #E2EBFA;\n",
              "      box-shadow: 0px 1px 2px rgba(60, 64, 67, 0.3), 0px 1px 3px 1px rgba(60, 64, 67, 0.15);\n",
              "      fill: #174EA6;\n",
              "    }\n",
              "\n",
              "    [theme=dark] .colab-df-convert {\n",
              "      background-color: #3B4455;\n",
              "      fill: #D2E3FC;\n",
              "    }\n",
              "\n",
              "    [theme=dark] .colab-df-convert:hover {\n",
              "      background-color: #434B5C;\n",
              "      box-shadow: 0px 1px 3px 1px rgba(0, 0, 0, 0.15);\n",
              "      filter: drop-shadow(0px 1px 2px rgba(0, 0, 0, 0.3));\n",
              "      fill: #FFFFFF;\n",
              "    }\n",
              "  </style>\n",
              "\n",
              "      <script>\n",
              "        const buttonEl =\n",
              "          document.querySelector('#df-75f58b94-8017-4a11-9740-1715b72d8bdb button.colab-df-convert');\n",
              "        buttonEl.style.display =\n",
              "          google.colab.kernel.accessAllowed ? 'block' : 'none';\n",
              "\n",
              "        async function convertToInteractive(key) {\n",
              "          const element = document.querySelector('#df-75f58b94-8017-4a11-9740-1715b72d8bdb');\n",
              "          const dataTable =\n",
              "            await google.colab.kernel.invokeFunction('convertToInteractive',\n",
              "                                                     [key], {});\n",
              "          if (!dataTable) return;\n",
              "\n",
              "          const docLinkHtml = 'Like what you see? Visit the ' +\n",
              "            '<a target=\"_blank\" href=https://colab.research.google.com/notebooks/data_table.ipynb>data table notebook</a>'\n",
              "            + ' to learn more about interactive tables.';\n",
              "          element.innerHTML = '';\n",
              "          dataTable['output_type'] = 'display_data';\n",
              "          await google.colab.output.renderOutput(dataTable, element);\n",
              "          const docLink = document.createElement('div');\n",
              "          docLink.innerHTML = docLinkHtml;\n",
              "          element.appendChild(docLink);\n",
              "        }\n",
              "      </script>\n",
              "    </div>\n",
              "  </div>\n",
              "  "
            ],
            "text/plain": [
              "                              FinInstrmGnlAttrbts.Id  \\\n",
              "0             <?xml version=\"1.0\" encoding=\"UTF-8\"?>   \n",
              "1  <BizData xsi:schemaLocation=\"urn:iso:std:iso:2...   \n",
              "\n",
              "                          FinInstrmGnlAttrbts.FullNm  \\\n",
              "0                                                NaN   \n",
              "1   Land           Landessch.v.16(21) Ausg.858</F...   \n",
              "\n",
              "                      FinInstrmGnlAttrbts.ClssfctnTp  \\\n",
              "0                                                NaN   \n",
              "1   Land Landessch.v.16(21) Ausg.858</FullNm><Shr...   \n",
              "\n",
              "                  FinInstrmGnlAttrbts.CmmdtyDerivInd  \\\n",
              "0                                                NaN   \n",
              "1   Land Landessch.v.16(21) Ausg.858</FullNm><Shr...   \n",
              "\n",
              "                         FinInstrmGnlAttrbts.NtnlCcy  \\\n",
              "0                                                NaN   \n",
              "1  FRN)</FullNm><ShrtNm>NATIXIS PFDBRBK/VAR MTH 2...   \n",
              "\n",
              "                                                Issr  \n",
              "0                                                NaN  \n",
              "1  FRN) NATIXIS PFAND</FullNm><ShrtNm>NATIXIS PFD...  "
            ]
          },
          "execution_count": 6,
          "metadata": {},
          "output_type": "execute_result"
        }
      ],
      "source": [
        "df.head()"
      ]
    },
    {
      "cell_type": "markdown",
      "metadata": {},
      "source": [
        "* Exporting the newly created Dataset"
      ]
    },
    {
      "cell_type": "code",
      "execution_count": 7,
      "metadata": {
        "id": "vkzTFayaXRYZ"
      },
      "outputs": [],
      "source": [
        "df.to_csv(\"SteelEye_new.csv\")"
      ]
    }
  ],
  "metadata": {
    "accelerator": "GPU",
    "colab": {
      "provenance": []
    },
    "kernelspec": {
      "display_name": "Python 3.10.6 64-bit (microsoft store)",
      "language": "python",
      "name": "python3"
    },
    "language_info": {
      "name": "python",
      "version": "3.10.6"
    },
    "vscode": {
      "interpreter": {
        "hash": "a08f583acb35847448b52a9eb69292a61cb88f49696fc3f852078c09d98ba127"
      }
    }
  },
  "nbformat": 4,
  "nbformat_minor": 0
}
